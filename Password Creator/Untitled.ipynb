{
 "cells": [
  {
   "cell_type": "code",
   "execution_count": 1,
   "id": "adea8d78",
   "metadata": {},
   "outputs": [],
   "source": [
    "import random"
   ]
  },
  {
   "cell_type": "code",
   "execution_count": 2,
   "id": "925712f9",
   "metadata": {},
   "outputs": [],
   "source": [
    "letters=['a','b','c','d','e','f','g','h','i','j',\n",
    "        'k','l','m','n','o','p','r','s','t','u','v',\n",
    "        'w','x','y','z','A','B','C','D','E','G','H','I'\n",
    "        'J','K','L','M','N','O','P','R','S','T','U','V',\n",
    "        'W','X','Y','Z']"
   ]
  },
  {
   "cell_type": "code",
   "execution_count": 3,
   "id": "f775f3b3",
   "metadata": {},
   "outputs": [],
   "source": [
    "numbers =[\"0\",\"1\",\"2\",\"3\",\"4\",\"5\",\"6\",\"7\",\"8\",\"9\"]\n",
    "symbols=[\"!\",\"@\",\"$\",\"%\",\"^\",\"&\",\"*\",\"(',')\",\"*\",\"+\"]"
   ]
  },
  {
   "cell_type": "code",
   "execution_count": 4,
   "id": "96ae1ae7",
   "metadata": {},
   "outputs": [
    {
     "name": "stdout",
     "output_type": "stream",
     "text": [
      "How many letters you like in your password?\n",
      "8\n",
      "How many symnbols would you like?\n",
      "2\n",
      "How many numbers would you like?\n",
      "3\n",
      "['L', 'l', 'G', 'V', 'A', 'S', 'x', 'E', '$', '^', '2', '0', '1']\n",
      "['1', '2', 'G', 'S', '^', 'E', 'L', 'x', 'V', 'l', 'A', '$', '0']\n",
      "Your password is: 12GS^ELxVlA$0\n"
     ]
    }
   ],
   "source": [
    "nr_letters= int(input(\"How many letters you like in your password?\\n\"))\n",
    "nr_symbols= int(input(f\"How many symnbols would you like?\\n\"))\n",
    "nr_numbers= int(input(f\"How many numbers would you like?\\n\"))\n",
    "\n",
    "\n",
    "password_list = []\n",
    "\n",
    "for char in range(1,nr_letters+1):\n",
    "    password_list.append(random.choice(letters))\n",
    "    \n",
    "for char in range (1,nr_symbols+1):\n",
    "    password_list += random.choice(symbols)\n",
    "\n",
    "for char in range(1,nr_numbers+1):\n",
    "    password_list += random.choice(numbers)\n",
    "    \n",
    "print(password_list)\n",
    "\n",
    "random.shuffle(password_list)\n",
    "print(password_list)\n",
    "\n",
    "password = \"\"\n",
    "for char in password_list:\n",
    "    password += char\n",
    "    \n",
    "print(f\"Your password is: {password}\")"
   ]
  },
  {
   "cell_type": "code",
   "execution_count": null,
   "id": "e66a836e",
   "metadata": {},
   "outputs": [],
   "source": []
  }
 ],
 "metadata": {
  "kernelspec": {
   "display_name": "Python 3 (ipykernel)",
   "language": "python",
   "name": "python3"
  },
  "language_info": {
   "codemirror_mode": {
    "name": "ipython",
    "version": 3
   },
   "file_extension": ".py",
   "mimetype": "text/x-python",
   "name": "python",
   "nbconvert_exporter": "python",
   "pygments_lexer": "ipython3",
   "version": "3.9.13"
  }
 },
 "nbformat": 4,
 "nbformat_minor": 5
}
