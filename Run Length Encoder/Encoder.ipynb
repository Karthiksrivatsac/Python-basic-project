{
 "cells": [
  {
   "cell_type": "code",
   "execution_count": null,
   "id": "a9245aff",
   "metadata": {},
   "outputs": [],
   "source": [
    "message = input(\"Enter the message: \")\n",
    "shift  = int(input(\"Enter the shift value:\"))\n",
    "\n",
    "new_message = \"\"\n",
    "for ch in message:\n",
    "    if ch >= \"a\" and ch <=\"z\":\n",
    "        pos = ord(ch) - ord(\"a\")\n",
    "        pos = (pos+shift)%26\n",
    "        new_char = chr(pos+ord(\"a\"))\n",
    "        new_message = new_message + new_char\n",
    "    elif ch >=\"A\" and ch<=\"Z\":\n",
    "        pos = ord(ch) - ord(\"A\")\n",
    "        pos = (pos+shift)%26\n",
    "        new_char = chr(pos+ord(\"A\"))\n",
    "        new_message = new_message + new_char\n",
    "    else:\n",
    "        new_message = new_message +ch\n",
    "        \n",
    "print(\"The shifted message is \", new_message)"
   ]
  },
  {
   "cell_type": "code",
   "execution_count": null,
   "id": "1e0230b4",
   "metadata": {},
   "outputs": [],
   "source": []
  },
  {
   "cell_type": "code",
   "execution_count": null,
   "id": "9cd2d901",
   "metadata": {},
   "outputs": [],
   "source": []
  }
 ],
 "metadata": {
  "kernelspec": {
   "display_name": "Python 3 (ipykernel)",
   "language": "python",
   "name": "python3"
  },
  "language_info": {
   "codemirror_mode": {
    "name": "ipython",
    "version": 3
   },
   "file_extension": ".py",
   "mimetype": "text/x-python",
   "name": "python",
   "nbconvert_exporter": "python",
   "pygments_lexer": "ipython3",
   "version": "3.9.13"
  }
 },
 "nbformat": 4,
 "nbformat_minor": 5
}
